{
 "cells": [
  {
   "cell_type": "code",
   "execution_count": null,
   "id": "e9a5ea3f-57ad-4ca4-bf51-0c1a12e19871",
   "metadata": {},
   "outputs": [],
   "source": [
    "Q1. What is a database? Differentiate between SQL and NoSQL databases."
   ]
  },
  {
   "cell_type": "code",
   "execution_count": null,
   "id": "94e1d35f-e050-4cd3-ab78-9dd3cde7e4d5",
   "metadata": {},
   "outputs": [],
   "source": [
    " A database is a structured collection of data that is stored and managed in a way that allows for efficient retrieval and modification. It is used to organize, manage, and store large amounts of data that can be easily accessed, managed, and updated.\n",
    "\n",
    "SQL and NoSQL are two different types of databases that differ in terms of their data model, storage, and querying mechanisms. The following are the main differences between SQL and NoSQL databases:\n",
    "\n",
    "Data Model:\n",
    "SQL databases are based on the relational data model, which uses tables with predefined columns and rows to store and organize data. Each table has a unique primary key that identifies each record within the table. NoSQL databases, on the other hand, use a variety of data models, such as document-based, key-value, graph-based, and column-family, which allow for more flexible and dynamic data structures.\n",
    "\n",
    "Storage:\n",
    "SQL databases store data in a structured format, where data is stored in tables with predefined schemas. They are usually stored on disk and can be accessed using SQL commands. NoSQL databases, on the other hand, are designed to handle unstructured data and can be stored in different ways, such as document-oriented, column-family, key-value, or graph-based.\n",
    "\n",
    "Querying Mechanisms:\n",
    "SQL databases use SQL (Structured Query Language) to query data, which is a standardized language used to manipulate and retrieve data from relational databases. SQL is a declarative language that allows users to specify what data they want to retrieve or manipulate, but not how to retrieve it. NoSQL databases, on the other hand, use different querying mechanisms depending on the type of database. For example, document-based NoSQL databases use JSON queries to retrieve data.\n",
    "\n",
    "In summary, SQL databases are best suited for applications that require a structured data model with complex queries, while NoSQL databases are more suited for applications that require flexibility and scalability, as well as the ability to store unstructured data.\n",
    "\n",
    "\n",
    "\n"
   ]
  },
  {
   "cell_type": "code",
   "execution_count": null,
   "id": "298364b8-60f9-48d6-ba64-0f7c9a1f16c1",
   "metadata": {},
   "outputs": [],
   "source": [
    "Q2. What is DDL? Explain why CREATE, DROP, ALTER, and TRUNCATE are used with an example."
   ]
  },
  {
   "cell_type": "code",
   "execution_count": null,
   "id": "cb9f6636-bb5a-45c3-99fe-499073370b6e",
   "metadata": {},
   "outputs": [],
   "source": [
    "DDL (Data Definition Language) is a set of SQL commands used to define, modify, and maintain the structure of database objects such as tables, indexes, and views. DDL statements are used to create, modify, or delete database objects.\n",
    "\n",
    "The following are the main DDL statements used in SQL:\n",
    "\n",
    "CREATE:\n",
    "The CREATE statement is used to create new database objects such as tables, views, indexes, and stored procedures. For example, the following SQL command creates a new table called \"employees\" with three columns: id, name, and salary.\n",
    "\n",
    "CREATE TABLE employees (\n",
    "id INT PRIMARY KEY,\n",
    "name VARCHAR(50),\n",
    "salary DECIMAL(10,2)\n",
    ");\n",
    "\n",
    "DROP:\n",
    "The DROP statement is used to delete existing database objects such as tables, views, and indexes. For example, the following SQL command drops the \"employees\" table:\n",
    "\n",
    "DROP TABLE employees;\n",
    "\n",
    "ALTER:\n",
    "The ALTER statement is used to modify the structure of an existing database object, such as adding or deleting columns in a table, changing the data type of a column, or modifying the constraints of a column. For example, the following SQL command adds a new column \"age\" to the \"employees\" table:\n",
    "\n",
    "ALTER TABLE employees ADD age INT;\n",
    "\n",
    "TRUNCATE:\n",
    "The TRUNCATE statement is used to delete all the data from a table, but the table structure remains intact. It is faster than using the DELETE statement to remove data from a table, especially when the table has a large amount of data. For example, the following SQL command deletes all the data from the \"employees\" table:\n",
    "\n",
    "TRUNCATE TABLE employees;\n",
    "\n",
    "In summary, DDL statements are used to create, modify, and delete the structure of database objects such as tables, views, indexes, and stored procedures. The CREATE statement is used to create new objects, the DROP statement is used to delete objects, the ALTER statement is used to modify objects, and the TRUNCATE statement is used to delete all data from a table."
   ]
  },
  {
   "cell_type": "code",
   "execution_count": null,
   "id": "d840cebb-f9c5-49c5-b569-a020fe9e9a17",
   "metadata": {},
   "outputs": [],
   "source": [
    "Q3. What is DML? Explain INSERT, UPDATE, and DELETE with an example."
   ]
  },
  {
   "cell_type": "code",
   "execution_count": null,
   "id": "7251669c-7a77-4e43-a1b9-6d788bf0a81e",
   "metadata": {},
   "outputs": [],
   "source": [
    "DML (Data Manipulation Language) is a set of SQL commands used to manipulate data stored in the database. DML statements are used to insert, update, and delete data in database tables.\n",
    "\n",
    "The following are the main DML statements used in SQL:\n",
    "\n",
    "INSERT:\n",
    "The INSERT statement is used to insert new data into a database table. For example, the following SQL command inserts a new record into the \"employees\" table with values for the \"id\", \"name\", and \"salary\" columns:\n",
    "\n",
    "INSERT INTO employees (id, name, salary)\n",
    "VALUES (1, 'John Doe', 50000);\n",
    "\n",
    "UPDATE:\n",
    "The UPDATE statement is used to modify existing data in a database table. For example, the following SQL command updates the salary of the employee with an id of 1 to 55000:\n",
    "\n",
    "UPDATE employees\n",
    "SET salary = 55000\n",
    "WHERE id = 1;\n",
    "\n",
    "DELETE:\n",
    "The DELETE statement is used to delete data from a database table. For example, the following SQL command deletes the record for the employee with an id of 1 from the \"employees\" table:\n",
    "\n",
    "DELETE FROM employees\n",
    "WHERE id = 1;\n",
    "\n",
    "In summary, DML statements are used to manipulate data stored in a database. The INSERT statement is used to insert new data into a table, the UPDATE statement is used to modify existing data in a table, and the DELETE statement is used to delete data from a table.\n",
    "\n",
    "\n",
    "\n"
   ]
  },
  {
   "cell_type": "code",
   "execution_count": null,
   "id": "f3450305-c239-4773-b903-4ca3bd5eebcc",
   "metadata": {},
   "outputs": [],
   "source": [
    "Q4. What is DQL? Explain SELECT with an example."
   ]
  },
  {
   "cell_type": "code",
   "execution_count": null,
   "id": "7f21ec63-96d8-4daa-a332-07432cc138f1",
   "metadata": {},
   "outputs": [],
   "source": [
    " DQL (Data Query Language) is a set of SQL commands used to retrieve data from a database. DQL statements are used to perform queries on database tables.\n",
    "\n",
    "The SELECT statement is the most commonly used DQL statement, and it is used to retrieve data from one or more database tables based on specified criteria. The SELECT statement allows you to specify the columns you want to retrieve, the tables you want to retrieve data from, and the criteria that the data must meet.\n",
    "\n",
    "The following is an example of the SELECT statement:\n",
    "\n",
    "\n",
    "SELECT id, name, salary\n",
    "FROM employees\n",
    "WHERE salary > 40000;"
   ]
  },
  {
   "cell_type": "code",
   "execution_count": null,
   "id": "189e10ef-7c81-4e70-b0d0-29422206be12",
   "metadata": {},
   "outputs": [],
   "source": [
    "Q5. Explain Primary Key and Foreign Key."
   ]
  },
  {
   "cell_type": "code",
   "execution_count": null,
   "id": "69d92745-0a04-45c7-89cf-bc8ee82a5e42",
   "metadata": {},
   "outputs": [],
   "source": [
    "Primary Key:\n",
    "A Primary Key is a column or set of columns in a table that uniquely identifies each record in the table. It is used to enforce the integrity of the data in the table and ensure that there are no duplicate records. A Primary Key column must have unique values, and it cannot contain null values. A Primary Key can be composed of one or more columns.\n",
    "For example, in a \"customers\" table, the \"customer_id\" column can be used as the Primary Key because it uniquely identifies each customer record in the table.\n",
    "\n",
    "Foreign Key:\n",
    "A Foreign Key is a column or set of columns in one table that refers to the Primary Key of another table. It is used to establish a relationship between two tables in a database. The Foreign Key column in one table is linked to the Primary Key column in another table, creating a parent-child relationship between the two tables."
   ]
  },
  {
   "cell_type": "code",
   "execution_count": null,
   "id": "ec1e27ab-0bf6-4905-bc99-34423174df56",
   "metadata": {},
   "outputs": [],
   "source": [
    "Q6. Write a python code to connect MySQL to python. Explain the cursor() and execute() method."
   ]
  },
  {
   "cell_type": "code",
   "execution_count": null,
   "id": "6fa9cfe7-238f-4e9b-8a96-a4d20e41d91c",
   "metadata": {},
   "outputs": [],
   "source": [
    "import mysql.connector\n",
    "\n",
    "# Establish a connection to the MySQL database\n",
    "mydb = mysql.connector.connect(\n",
    "  host=\"localhost\",\n",
    "  user=\"username\",\n",
    "  password=\"password\",\n",
    "  database=\"database_name\"\n",
    ")\n",
    "\n",
    "# Create a cursor object to interact with the database\n",
    "mycursor = mydb.cursor()\n",
    "\n",
    "# Execute a SQL query\n",
    "mycursor.execute(\"SELECT * FROM table_name\")\n",
    "\n",
    "# Fetch the results of the query\n",
    "results = mycursor.fetchall()\n",
    "\n",
    "# Display the results\n",
    "for result in results:\n",
    "  print(result)\n",
    "  \n",
    "# Close the cursor and database connection\n",
    "mycursor.close()\n",
    "mydb.close()\n"
   ]
  },
  {
   "cell_type": "code",
   "execution_count": null,
   "id": "d3254dde-0c75-462b-b319-99f6aea08f01",
   "metadata": {},
   "outputs": [],
   "source": [
    "Q7. Give the order of execution of SQL clauses in an SQL query."
   ]
  }
 ],
 "metadata": {
  "kernelspec": {
   "display_name": "Python 3 (ipykernel)",
   "language": "python",
   "name": "python3"
  },
  "language_info": {
   "codemirror_mode": {
    "name": "ipython",
    "version": 3
   },
   "file_extension": ".py",
   "mimetype": "text/x-python",
   "name": "python",
   "nbconvert_exporter": "python",
   "pygments_lexer": "ipython3",
   "version": "3.10.8"
  }
 },
 "nbformat": 4,
 "nbformat_minor": 5
}
